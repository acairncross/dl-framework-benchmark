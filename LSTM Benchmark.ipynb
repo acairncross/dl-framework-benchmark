{
 "cells": [
  {
   "cell_type": "code",
   "execution_count": 14,
   "id": "b099ceb0",
   "metadata": {},
   "outputs": [],
   "source": [
    "from jax import grad, jit, vmap, random, lax\n",
    "import jax\n",
    "import jax.numpy as jnp\n",
    "\n",
    "import torch\n",
    "import torch.nn as nn\n",
    "\n",
    "import numpy as np\n",
    "\n",
    "from functools import partial\n",
    "from dataclasses import dataclass"
   ]
  },
  {
   "cell_type": "code",
   "execution_count": 4,
   "id": "b3cfa733",
   "metadata": {},
   "outputs": [
    {
     "name": "stderr",
     "output_type": "stream",
     "text": [
      "WARNING:absl:No GPU/TPU found, falling back to CPU. (Set TF_CPP_MIN_LOG_LEVEL=0 and rerun for more info.)\n"
     ]
    },
    {
     "name": "stdout",
     "output_type": "stream",
     "text": [
      "[-0.3721109   0.26423115 -0.18252768 -0.7368197  -0.44030377 -0.1521442\n",
      " -0.67135346 -0.5908641   0.73168886  0.5673026 ]\n"
     ]
    }
   ],
   "source": [
    "def selu(x, alpha=1.67, lmbda=1.05):\n",
    "    return lmbda * jnp.where(x > 0, x, alpha * jnp.exp(x) - alpha)\n",
    "\n",
    "key = random.PRNGKey(0)\n",
    "x = random.normal(key, (10,))\n",
    "print(x)"
   ]
  },
  {
   "cell_type": "code",
   "execution_count": 7,
   "id": "a1842afa",
   "metadata": {},
   "outputs": [],
   "source": [
    "from jax.tree_util import register_pytree_node_class\n",
    "\n",
    "@register_pytree_node_class\n",
    "@dataclass\n",
    "class LstmParams:\n",
    "    w_ih: np.ndarray\n",
    "    w_hh: np.ndarray\n",
    "    b_ih: np.ndarray\n",
    "    b_hh: np.ndarray\n",
    "        \n",
    "    def tree_flatten(self):\n",
    "        children = self.w_ih, self.w_hh, self.b_ih, self.b_hh\n",
    "        aux_data = None\n",
    "        return children, aux_data\n",
    "    \n",
    "    @classmethod\n",
    "    def tree_unflatten(cls, aux_data, children):\n",
    "        return cls(*children)"
   ]
  },
  {
   "cell_type": "code",
   "execution_count": 11,
   "id": "1a3aacaf",
   "metadata": {},
   "outputs": [],
   "source": [
    "def lstm_model(params, xs, h_0, c_0):\n",
    "    final_state, output = lax.scan(partial(lstm_step, params), (h_0, c_0), xs)\n",
    "    return output\n",
    "\n",
    "def lstm_step(params, state, xs):\n",
    "    \n",
    "    h_0, c_0 = state\n",
    "    \n",
    "    gates = params.w_ih @ xs + params.b_ih + params.w_hh @ h_0 + params.b_hh\n",
    "    in_gate, forget_gate, cell_gate, out_gate = jnp.split(gates, 4)\n",
    "    \n",
    "    cy = (forget_gate * c_0) + (in_gate * cell_gate)\n",
    "    hy = out_gate * jax.nn.tanh(cy)\n",
    "    \n",
    "    return (hy, cy), hy"
   ]
  },
  {
   "cell_type": "code",
   "execution_count": 15,
   "id": "b9f9f8da",
   "metadata": {},
   "outputs": [
    {
     "name": "stdout",
     "output_type": "stream",
     "text": [
      "CPU times: user 141 ms, sys: 26.3 ms, total: 167 ms\n",
      "Wall time: 277 ms\n"
     ]
    },
    {
     "data": {
      "text/plain": [
       "DeviceArray([[0., 0., 0., ..., 0., 0., 0.],\n",
       "             [0., 0., 0., ..., 0., 0., 0.],\n",
       "             [0., 0., 0., ..., 0., 0., 0.],\n",
       "             ...,\n",
       "             [0., 0., 0., ..., 0., 0., 0.],\n",
       "             [0., 0., 0., ..., 0., 0., 0.],\n",
       "             [0., 0., 0., ..., 0., 0., 0.]], dtype=float32)"
      ]
     },
     "execution_count": 15,
     "metadata": {},
     "output_type": "execute_result"
    }
   ],
   "source": [
    "%%time\n",
    "input_size = 128\n",
    "hidden_size = 128\n",
    "lstm_model_jit = jit(lstm_model)\n",
    "lstm_model_jit(\n",
    "    LstmParams(\n",
    "        np.zeros((4 * hidden_size, input_size)),\n",
    "        np.zeros((4 * hidden_size, hidden_size)),\n",
    "        np.zeros((4 * hidden_size,)),\n",
    "        np.zeros((4 * hidden_size,)),\n",
    "    ),\n",
    "    np.zeros((1000, input_size,)),\n",
    "    np.zeros((hidden_size,)),\n",
    "    np.zeros((hidden_size,)),\n",
    ")"
   ]
  },
  {
   "cell_type": "code",
   "execution_count": 162,
   "id": "26f1904b",
   "metadata": {},
   "outputs": [
    {
     "name": "stdout",
     "output_type": "stream",
     "text": [
      "module @jit_lstm_model.52 {\n",
      "  func.func public @main(%arg0: tensor<4096x1024xf32>, %arg1: tensor<4096xf32>, %arg2: tensor<4096x1024xf32>, %arg3: tensor<4096xf32>, %arg4: tensor<1000x1024xf32>, %arg5: tensor<1024xf32>, %arg6: tensor<1024xf32>) -> tensor<1000x1024xf32> {\n",
      "    %0 = mhlo.constant dense<0.000000e+00> : tensor<f32>\n",
      "    %1 = \"mhlo.broadcast_in_dim\"(%0) {broadcast_dimensions = dense<> : tensor<0xi64>} : (tensor<f32>) -> tensor<1000x1024xf32>\n",
      "    %2 = mhlo.constant dense<0> : tensor<i32>\n",
      "    %3:9 = mhlo.while(%iterArg = %arg4, %iterArg_0 = %arg0, %iterArg_1 = %arg1, %iterArg_2 = %arg2, %iterArg_3 = %arg3, %iterArg_4 = %2, %iterArg_5 = %arg5, %iterArg_6 = %arg6, %iterArg_7 = %1) : tensor<1000x1024xf32>, tensor<4096x1024xf32>, tensor<4096xf32>, tensor<4096x1024xf32>, tensor<4096xf32>, tensor<i32>, tensor<1024xf32>, tensor<1024xf32>, tensor<1000x1024xf32>\n",
      "     cond {\n",
      "      %4 = mhlo.constant dense<1000> : tensor<i32>\n",
      "      %5 = \"mhlo.compare\"(%iterArg_4, %4) {compare_type = #mhlo<comparison_type SIGNED>, comparison_direction = #mhlo<comparison_direction LT>} : (tensor<i32>, tensor<i32>) -> tensor<i1>\n",
      "      \"mhlo.return\"(%5) : (tensor<i1>) -> ()\n",
      "    } do {\n",
      "      %4 = mhlo.constant dense<0> : tensor<i32>\n",
      "      %5 = \"mhlo.compare\"(%iterArg_4, %4) {compare_type = #mhlo<comparison_type SIGNED>, comparison_direction = #mhlo<comparison_direction LT>} : (tensor<i32>, tensor<i32>) -> tensor<i1>\n",
      "      %6 = mhlo.convert %iterArg_4 : tensor<i32>\n",
      "      %7 = mhlo.constant dense<1000> : tensor<i32>\n",
      "      %8 = mhlo.add %6, %7 : tensor<i32>\n",
      "      %9 = \"mhlo.select\"(%5, %8, %iterArg_4) : (tensor<i1>, tensor<i32>, tensor<i32>) -> tensor<i32>\n",
      "      %10 = mhlo.constant dense<0> : tensor<i32>\n",
      "      %11 = mhlo.constant dense<0> : tensor<i32>\n",
      "      %12 = \"mhlo.compare\"(%10, %11) {compare_type = #mhlo<comparison_type SIGNED>, comparison_direction = #mhlo<comparison_direction LT>} : (tensor<i32>, tensor<i32>) -> tensor<i1>\n",
      "      %13 = mhlo.constant dense<0> : tensor<i32>\n",
      "      %14 = mhlo.constant dense<1024> : tensor<i32>\n",
      "      %15 = mhlo.add %13, %14 : tensor<i32>\n",
      "      %16 = mhlo.constant dense<0> : tensor<i32>\n",
      "      %17 = \"mhlo.select\"(%12, %15, %16) : (tensor<i1>, tensor<i32>, tensor<i32>) -> tensor<i32>\n",
      "      %18 = \"mhlo.dynamic_slice\"(%iterArg, %9, %17) {slice_sizes = dense<[1, 1024]> : tensor<2xi64>} : (tensor<1000x1024xf32>, tensor<i32>, tensor<i32>) -> tensor<1x1024xf32>\n",
      "      %19 = \"mhlo.reshape\"(%18) : (tensor<1x1024xf32>) -> tensor<1024xf32>\n",
      "      %20 = \"mhlo.dot_general\"(%iterArg_0, %19) {dot_dimension_numbers = #mhlo.dot<lhs_contracting_dimensions = [1], rhs_contracting_dimensions = [0]>, precision_config = [#mhlo<precision DEFAULT>, #mhlo<precision DEFAULT>]} : (tensor<4096x1024xf32>, tensor<1024xf32>) -> tensor<4096xf32>\n",
      "      %21 = mhlo.add %20, %iterArg_1 : tensor<4096xf32>\n",
      "      %22 = \"mhlo.dot_general\"(%iterArg_2, %iterArg_5) {dot_dimension_numbers = #mhlo.dot<lhs_contracting_dimensions = [1], rhs_contracting_dimensions = [0]>, precision_config = [#mhlo<precision DEFAULT>, #mhlo<precision DEFAULT>]} : (tensor<4096x1024xf32>, tensor<1024xf32>) -> tensor<4096xf32>\n",
      "      %23 = mhlo.add %21, %22 : tensor<4096xf32>\n",
      "      %24 = mhlo.add %23, %iterArg_3 : tensor<4096xf32>\n",
      "      %25 = \"mhlo.slice\"(%24) {limit_indices = dense<1024> : tensor<1xi64>, start_indices = dense<0> : tensor<1xi64>, strides = dense<1> : tensor<1xi64>} : (tensor<4096xf32>) -> tensor<1024xf32>\n",
      "      %26 = \"mhlo.slice\"(%24) {limit_indices = dense<2048> : tensor<1xi64>, start_indices = dense<1024> : tensor<1xi64>, strides = dense<1> : tensor<1xi64>} : (tensor<4096xf32>) -> tensor<1024xf32>\n",
      "      %27 = \"mhlo.slice\"(%24) {limit_indices = dense<3072> : tensor<1xi64>, start_indices = dense<2048> : tensor<1xi64>, strides = dense<1> : tensor<1xi64>} : (tensor<4096xf32>) -> tensor<1024xf32>\n",
      "      %28 = \"mhlo.slice\"(%24) {limit_indices = dense<4096> : tensor<1xi64>, start_indices = dense<3072> : tensor<1xi64>, strides = dense<1> : tensor<1xi64>} : (tensor<4096xf32>) -> tensor<1024xf32>\n",
      "      %29 = mhlo.multiply %26, %iterArg_6 : tensor<1024xf32>\n",
      "      %30 = mhlo.multiply %25, %27 : tensor<1024xf32>\n",
      "      %31 = mhlo.add %29, %30 : tensor<1024xf32>\n",
      "      %32 = mhlo.tanh %31 : tensor<1024xf32>\n",
      "      %33 = mhlo.multiply %28, %32 : tensor<1024xf32>\n",
      "      %34 = \"mhlo.broadcast_in_dim\"(%33) {broadcast_dimensions = dense<1> : tensor<1xi64>} : (tensor<1024xf32>) -> tensor<1x1024xf32>\n",
      "      %35 = mhlo.constant dense<0> : tensor<i32>\n",
      "      %36 = \"mhlo.compare\"(%iterArg_4, %35) {compare_type = #mhlo<comparison_type SIGNED>, comparison_direction = #mhlo<comparison_direction LT>} : (tensor<i32>, tensor<i32>) -> tensor<i1>\n",
      "      %37 = mhlo.convert %iterArg_4 : tensor<i32>\n",
      "      %38 = mhlo.constant dense<1000> : tensor<i32>\n",
      "      %39 = mhlo.add %37, %38 : tensor<i32>\n",
      "      %40 = \"mhlo.select\"(%36, %39, %iterArg_4) : (tensor<i1>, tensor<i32>, tensor<i32>) -> tensor<i32>\n",
      "      %41 = mhlo.constant dense<0> : tensor<i32>\n",
      "      %42 = mhlo.constant dense<0> : tensor<i32>\n",
      "      %43 = \"mhlo.compare\"(%41, %42) {compare_type = #mhlo<comparison_type SIGNED>, comparison_direction = #mhlo<comparison_direction LT>} : (tensor<i32>, tensor<i32>) -> tensor<i1>\n",
      "      %44 = mhlo.constant dense<0> : tensor<i32>\n",
      "      %45 = mhlo.constant dense<1024> : tensor<i32>\n",
      "      %46 = mhlo.add %44, %45 : tensor<i32>\n",
      "      %47 = mhlo.constant dense<0> : tensor<i32>\n",
      "      %48 = \"mhlo.select\"(%43, %46, %47) : (tensor<i1>, tensor<i32>, tensor<i32>) -> tensor<i32>\n",
      "      %49 = \"mhlo.dynamic_update_slice\"(%iterArg_7, %34, %40, %48) : (tensor<1000x1024xf32>, tensor<1x1024xf32>, tensor<i32>, tensor<i32>) -> tensor<1000x1024xf32>\n",
      "      %50 = mhlo.constant dense<1> : tensor<i32>\n",
      "      %51 = mhlo.add %iterArg_4, %50 : tensor<i32>\n",
      "      \"mhlo.return\"(%iterArg, %iterArg_0, %iterArg_1, %iterArg_2, %iterArg_3, %51, %33, %31, %49) : (tensor<1000x1024xf32>, tensor<4096x1024xf32>, tensor<4096xf32>, tensor<4096x1024xf32>, tensor<4096xf32>, tensor<i32>, tensor<1024xf32>, tensor<1024xf32>, tensor<1000x1024xf32>) -> ()\n",
      "    }\n",
      "    return %3#8 : tensor<1000x1024xf32>\n",
      "  }\n",
      "}\n",
      "\n",
      "CPU times: user 63 ms, sys: 1.74 ms, total: 64.8 ms\n",
      "Wall time: 64.5 ms\n"
     ]
    }
   ],
   "source": [
    "%%time\n",
    "print(lstm_model_jit.lower(\n",
    "    (\n",
    "        np.zeros((4 * hidden_size, input_size)),\n",
    "        np.zeros((4 * hidden_size,)),\n",
    "        np.zeros((4 * hidden_size, hidden_size)),\n",
    "        np.zeros((4 * hidden_size,)),\n",
    "    ),\n",
    "    np.zeros((1000, input_size,)),\n",
    "    np.zeros((hidden_size,)),\n",
    "    np.zeros((hidden_size,)),\n",
    ").as_text())"
   ]
  },
  {
   "cell_type": "code",
   "execution_count": null,
   "id": "d254f676",
   "metadata": {},
   "outputs": [],
   "source": [
    "lstm_model_"
   ]
  },
  {
   "cell_type": "code",
   "execution_count": 245,
   "id": "7272dc9f",
   "metadata": {},
   "outputs": [],
   "source": [
    "class CustomLSTM(torch.nn.Module):\n",
    "    def __init__(self, input_size, hidden_size):\n",
    "        super().__init__()\n",
    "        self.input_size = input_size\n",
    "        self.hidden_size = hidden_size\n",
    "        self.cell = CustomLSTMCell(input_size, hidden_size)\n",
    "        \n",
    "    def forward(self, input):\n",
    "        h, c = torch.zeros(self.hidden_size), torch.zeros(self.hidden_size)\n",
    "        outputs = []\n",
    "        for i in range(len(input)):\n",
    "            h, c = self.cell(input[i], (h, c))\n",
    "            outputs.append(h)\n",
    "            \n",
    "        return outputs, (h, c)\n",
    "\n",
    "class CustomLSTMCell(torch.nn.Module):\n",
    "    def __init__(self, input_size, hidden_size):\n",
    "        super().__init__()\n",
    "        self.input_size = input_size\n",
    "        self.hidden_size = hidden_size\n",
    "        self.weight_ih = torch.nn.Parameter(torch.randn(4 * hidden_size, input_size))\n",
    "        self.weight_hh = torch.nn.Parameter(torch.randn(4 * hidden_size, hidden_size))\n",
    "        self.bias_ih = torch.nn.Parameter(torch.randn(4 * hidden_size))\n",
    "        self.bias_hh = torch.nn.Parameter(torch.randn(4 * hidden_size))\n",
    "\n",
    "    def forward(self, input, state):\n",
    "        # type: (Tensor, Tuple[Tensor, Tensor]) -> Tuple[Tensor, Tuple[Tensor, Tensor]]\n",
    "        hx, cx = state\n",
    "        gates = (input @ self.weight_ih.t() + self.bias_ih +\n",
    "                 hx @ self.weight_hh.t() + self.bias_hh)\n",
    "        ingate, forgetgate, cellgate, outgate = gates.chunk(4, 0)\n",
    "\n",
    "        ingate = torch.sigmoid(ingate)\n",
    "        forgetgate = torch.sigmoid(forgetgate)\n",
    "        cellgate = torch.tanh(cellgate)\n",
    "        outgate = torch.sigmoid(outgate)\n",
    "\n",
    "        cy = (forgetgate * cx) + (ingate * cellgate)\n",
    "        hy = outgate * torch.tanh(cy)\n",
    "\n",
    "        return hy, cy"
   ]
  },
  {
   "cell_type": "code",
   "execution_count": 246,
   "id": "10ca2647",
   "metadata": {},
   "outputs": [],
   "source": [
    "torch_lstm = CustomLSTM(128, 128)\n",
    "t = torch.zeros(1000, 128)"
   ]
  },
  {
   "cell_type": "code",
   "execution_count": 251,
   "id": "11055856",
   "metadata": {},
   "outputs": [
    {
     "name": "stdout",
     "output_type": "stream",
     "text": [
      "CPU times: user 286 ms, sys: 1.41 ms, total: 287 ms\n",
      "Wall time: 156 ms\n"
     ]
    }
   ],
   "source": [
    "%%time\n",
    "with torch.no_grad():\n",
    "    torch_lstm(t)"
   ]
  },
  {
   "cell_type": "code",
   "execution_count": null,
   "id": "634f8784",
   "metadata": {},
   "outputs": [],
   "source": [
    "lax.scan()"
   ]
  },
  {
   "cell_type": "code",
   "execution_count": 61,
   "id": "3ef3366b",
   "metadata": {},
   "outputs": [
    {
     "data": {
      "text/plain": [
       "array([[ 0.96589488,  0.30303295,  0.74763393, ..., -0.6795796 ,\n",
       "         0.06711103,  1.17431941],\n",
       "       [ 0.70892449,  0.31808199, -0.82909577, ...,  1.20363463,\n",
       "         0.46466613,  1.98741418],\n",
       "       [ 0.5813831 ,  0.04676802,  1.58081992, ..., -0.71274007,\n",
       "        -1.6727985 ,  0.24868153],\n",
       "       ...,\n",
       "       [-0.31201267,  0.61315431,  2.16878743, ..., -0.71575788,\n",
       "        -0.196202  , -0.81780193],\n",
       "       [ 0.27412789, -2.05271653, -1.15464317, ..., -0.95800908,\n",
       "        -2.38512656,  0.69364098],\n",
       "       [-1.34154884, -0.11968709, -1.59875441, ..., -1.50942542,\n",
       "        -0.49023361,  0.38057436]])"
      ]
     },
     "execution_count": 61,
     "metadata": {},
     "output_type": "execute_result"
    }
   ],
   "source": [
    "np.random.normal(size=(64, 64))"
   ]
  },
  {
   "cell_type": "code",
   "execution_count": 64,
   "id": "3767745c",
   "metadata": {},
   "outputs": [],
   "source": [
    "theta = (\n",
    "    np.random.normal(size=(64, 64)),\n",
    "    np.random.normal(size=(64,)),\n",
    ")\n",
    "xs = np.random.normal(size=(64,))"
   ]
  },
  {
   "cell_type": "code",
   "execution_count": 82,
   "id": "09d07444",
   "metadata": {},
   "outputs": [
    {
     "data": {
      "text/plain": [
       "{ lambda ; a:f32[64,64] b:f32[64] c:f32[64]. let\n",
       "    d:f32[64] = dot_general[\n",
       "      dimension_numbers=(((1,), (0,)), ((), ()))\n",
       "      precision=None\n",
       "      preferred_element_type=None\n",
       "    ] a c\n",
       "    e:f32[64] = add d b\n",
       "    f:f32[64] = dot_general[\n",
       "      dimension_numbers=(((1,), (0,)), ((), ()))\n",
       "      precision=None\n",
       "      preferred_element_type=None\n",
       "    ] a e\n",
       "    g:f32[64] = add f b\n",
       "    h:f32[64] = dot_general[\n",
       "      dimension_numbers=(((1,), (0,)), ((), ()))\n",
       "      precision=None\n",
       "      preferred_element_type=None\n",
       "    ] a g\n",
       "    i:f32[64] = add h b\n",
       "    j:f32[64] = dot_general[\n",
       "      dimension_numbers=(((1,), (0,)), ((), ()))\n",
       "      precision=None\n",
       "      preferred_element_type=None\n",
       "    ] a i\n",
       "    k:f32[64] = add j b\n",
       "    l:f32[64] = dot_general[\n",
       "      dimension_numbers=(((1,), (0,)), ((), ()))\n",
       "      precision=None\n",
       "      preferred_element_type=None\n",
       "    ] a k\n",
       "    m:f32[64] = add l b\n",
       "    n:f32[64] = dot_general[\n",
       "      dimension_numbers=(((1,), (0,)), ((), ()))\n",
       "      precision=None\n",
       "      preferred_element_type=None\n",
       "    ] a m\n",
       "    o:f32[64] = add n b\n",
       "    p:f32[64] = dot_general[\n",
       "      dimension_numbers=(((1,), (0,)), ((), ()))\n",
       "      precision=None\n",
       "      preferred_element_type=None\n",
       "    ] a o\n",
       "    q:f32[64] = add p b\n",
       "    r:f32[64] = dot_general[\n",
       "      dimension_numbers=(((1,), (0,)), ((), ()))\n",
       "      precision=None\n",
       "      preferred_element_type=None\n",
       "    ] a q\n",
       "    s:f32[64] = add r b\n",
       "    t:f32[64] = dot_general[\n",
       "      dimension_numbers=(((1,), (0,)), ((), ()))\n",
       "      precision=None\n",
       "      preferred_element_type=None\n",
       "    ] a s\n",
       "    u:f32[64] = add t b\n",
       "    v:f32[64] = dot_general[\n",
       "      dimension_numbers=(((1,), (0,)), ((), ()))\n",
       "      precision=None\n",
       "      preferred_element_type=None\n",
       "    ] a u\n",
       "    w:f32[64] = add v b\n",
       "  in (w,) }"
      ]
     },
     "execution_count": 82,
     "metadata": {},
     "output_type": "execute_result"
    }
   ],
   "source": [
    "jax.make_jaxpr(rnn_model)(theta, xs)"
   ]
  },
  {
   "cell_type": "code",
   "execution_count": 79,
   "id": "1534b294",
   "metadata": {},
   "outputs": [
    {
     "name": "stdout",
     "output_type": "stream",
     "text": [
      "module @jit_rnn_model.39 {\n",
      "  func.func public @main(%arg0: tensor<64x64xf32>, %arg1: tensor<64xf32>, %arg2: tensor<64xf32>) -> tensor<64xf32> {\n",
      "    %0 = \"mhlo.dot_general\"(%arg0, %arg2) {dot_dimension_numbers = #mhlo.dot<lhs_contracting_dimensions = [1], rhs_contracting_dimensions = [0]>, precision_config = [#mhlo<precision DEFAULT>, #mhlo<precision DEFAULT>]} : (tensor<64x64xf32>, tensor<64xf32>) -> tensor<64xf32>\n",
      "    %1 = mhlo.add %0, %arg1 : tensor<64xf32>\n",
      "    %2 = \"mhlo.dot_general\"(%arg0, %1) {dot_dimension_numbers = #mhlo.dot<lhs_contracting_dimensions = [1], rhs_contracting_dimensions = [0]>, precision_config = [#mhlo<precision DEFAULT>, #mhlo<precision DEFAULT>]} : (tensor<64x64xf32>, tensor<64xf32>) -> tensor<64xf32>\n",
      "    %3 = mhlo.add %2, %arg1 : tensor<64xf32>\n",
      "    %4 = \"mhlo.dot_general\"(%arg0, %3) {dot_dimension_numbers = #mhlo.dot<lhs_contracting_dimensions = [1], rhs_contracting_dimensions = [0]>, precision_config = [#mhlo<precision DEFAULT>, #mhlo<precision DEFAULT>]} : (tensor<64x64xf32>, tensor<64xf32>) -> tensor<64xf32>\n",
      "    %5 = mhlo.add %4, %arg1 : tensor<64xf32>\n",
      "    %6 = \"mhlo.dot_general\"(%arg0, %5) {dot_dimension_numbers = #mhlo.dot<lhs_contracting_dimensions = [1], rhs_contracting_dimensions = [0]>, precision_config = [#mhlo<precision DEFAULT>, #mhlo<precision DEFAULT>]} : (tensor<64x64xf32>, tensor<64xf32>) -> tensor<64xf32>\n",
      "    %7 = mhlo.add %6, %arg1 : tensor<64xf32>\n",
      "    %8 = \"mhlo.dot_general\"(%arg0, %7) {dot_dimension_numbers = #mhlo.dot<lhs_contracting_dimensions = [1], rhs_contracting_dimensions = [0]>, precision_config = [#mhlo<precision DEFAULT>, #mhlo<precision DEFAULT>]} : (tensor<64x64xf32>, tensor<64xf32>) -> tensor<64xf32>\n",
      "    %9 = mhlo.add %8, %arg1 : tensor<64xf32>\n",
      "    %10 = \"mhlo.dot_general\"(%arg0, %9) {dot_dimension_numbers = #mhlo.dot<lhs_contracting_dimensions = [1], rhs_contracting_dimensions = [0]>, precision_config = [#mhlo<precision DEFAULT>, #mhlo<precision DEFAULT>]} : (tensor<64x64xf32>, tensor<64xf32>) -> tensor<64xf32>\n",
      "    %11 = mhlo.add %10, %arg1 : tensor<64xf32>\n",
      "    %12 = \"mhlo.dot_general\"(%arg0, %11) {dot_dimension_numbers = #mhlo.dot<lhs_contracting_dimensions = [1], rhs_contracting_dimensions = [0]>, precision_config = [#mhlo<precision DEFAULT>, #mhlo<precision DEFAULT>]} : (tensor<64x64xf32>, tensor<64xf32>) -> tensor<64xf32>\n",
      "    %13 = mhlo.add %12, %arg1 : tensor<64xf32>\n",
      "    %14 = \"mhlo.dot_general\"(%arg0, %13) {dot_dimension_numbers = #mhlo.dot<lhs_contracting_dimensions = [1], rhs_contracting_dimensions = [0]>, precision_config = [#mhlo<precision DEFAULT>, #mhlo<precision DEFAULT>]} : (tensor<64x64xf32>, tensor<64xf32>) -> tensor<64xf32>\n",
      "    %15 = mhlo.add %14, %arg1 : tensor<64xf32>\n",
      "    %16 = \"mhlo.dot_general\"(%arg0, %15) {dot_dimension_numbers = #mhlo.dot<lhs_contracting_dimensions = [1], rhs_contracting_dimensions = [0]>, precision_config = [#mhlo<precision DEFAULT>, #mhlo<precision DEFAULT>]} : (tensor<64x64xf32>, tensor<64xf32>) -> tensor<64xf32>\n",
      "    %17 = mhlo.add %16, %arg1 : tensor<64xf32>\n",
      "    %18 = \"mhlo.dot_general\"(%arg0, %17) {dot_dimension_numbers = #mhlo.dot<lhs_contracting_dimensions = [1], rhs_contracting_dimensions = [0]>, precision_config = [#mhlo<precision DEFAULT>, #mhlo<precision DEFAULT>]} : (tensor<64x64xf32>, tensor<64xf32>) -> tensor<64xf32>\n",
      "    %19 = mhlo.add %18, %arg1 : tensor<64xf32>\n",
      "    return %19 : tensor<64xf32>\n",
      "  }\n",
      "}\n",
      "\n"
     ]
    }
   ],
   "source": [
    "print(jit(rnn_model).lower(theta, xs).as_text())"
   ]
  },
  {
   "cell_type": "code",
   "execution_count": null,
   "id": "0dd8f994",
   "metadata": {},
   "outputs": [],
   "source": [
    "jit(rnn_model)."
   ]
  },
  {
   "cell_type": "code",
   "execution_count": 2,
   "id": "d758b5ad",
   "metadata": {},
   "outputs": [],
   "source": [
    "def model(theta, x):\n",
    "    \"\"\"Computes wx + b on a batch of input x.\"\"\"\n",
    "    w, b = theta\n",
    "    return w * x + b"
   ]
  },
  {
   "cell_type": "code",
   "execution_count": 3,
   "id": "7fc9508e",
   "metadata": {},
   "outputs": [
    {
     "data": {
      "image/png": "[encoded data removed]",
      "text/plain": [
       "<Figure size 640x480 with 1 Axes>"
      ]
     },
     "metadata": {},
     "output_type": "display_data"
    }
   ],
   "source": [
    "import numpy as np\n",
    "import matplotlib.pyplot as plt\n",
    "\n",
    "xs = np.random.normal(size=(100,))\n",
    "noise = np.random.normal(scale=0.1, size=(100,))\n",
    "ys = xs * 3 - 1 + noise\n",
    "\n",
    "plt.scatter(xs, ys);"
   ]
  },
  {
   "cell_type": "code",
   "execution_count": 4,
   "id": "12323c1a",
   "metadata": {},
   "outputs": [
    {
     "data": {
      "text/plain": [
       "DeviceArray([ 0.4975571 ,  1.2424994 ,  1.3435951 ,  0.5117413 ,\n",
       "             -1.0394187 ,  2.4631166 ,  0.16100919, -0.16582906,\n",
       "              2.0965214 ,  0.8592652 ,  0.5559618 , -0.15341556,\n",
       "              1.5302485 ,  0.34030586,  0.24364984, -1.1238167 ,\n",
       "              1.4287266 ,  1.1247541 ,  0.52592134,  2.6288614 ,\n",
       "              0.6961215 ,  1.868677  ,  0.7668657 ,  1.0313972 ,\n",
       "              1.8680458 ,  0.73458874,  2.1895213 ,  2.1620634 ,\n",
       "             -0.25226545,  0.25192803,  1.6315435 ,  0.36177188,\n",
       "              0.645198  ,  0.3846354 , -0.2606349 ,  0.09633374,\n",
       "              2.0146384 ,  1.2065446 ,  2.5755448 ,  0.21103817,\n",
       "             -0.9903326 ,  0.71830124,  1.6137104 ,  2.5951104 ,\n",
       "              1.6259768 ,  1.4387809 ,  0.6915536 ,  0.7464498 ,\n",
       "              0.30334097,  0.6659225 ,  1.708233  ,  2.0350833 ,\n",
       "              0.8331384 ,  2.5650659 , -0.80074346,  0.22773564,\n",
       "              0.9778164 ,  1.4079093 ,  0.9434458 ,  0.7987207 ,\n",
       "              0.6717661 ,  1.6181365 ,  0.7640012 , -0.13604128,\n",
       "              0.18321967,  1.0412488 ,  0.8243661 ,  0.19101924,\n",
       "              0.84137523,  1.6521052 , -1.2680054 ,  0.6686216 ,\n",
       "             -0.9003719 , -0.8197311 ,  1.8645009 ,  2.5624845 ,\n",
       "              0.7245947 ,  2.1501632 ,  0.47701788,  3.5420394 ,\n",
       "              2.5944948 ,  0.86896306,  1.7398582 ,  0.73904294,\n",
       "              0.8696954 ,  1.7449719 , -0.6893339 ,  0.51617724,\n",
       "              0.5737134 ,  2.5795517 ,  1.818601  ,  1.9362845 ,\n",
       "              0.52260274,  0.5859711 ,  1.0482578 ,  0.27328175,\n",
       "              0.7048048 ,  1.6988182 ,  1.387775  ,  2.4674244 ],            dtype=float32)"
      ]
     },
     "execution_count": 4,
     "metadata": {},
     "output_type": "execute_result"
    }
   ],
   "source": [
    "theta = jnp.array([1., 1.])\n",
    "model(theta, xs)"
   ]
  },
  {
   "cell_type": "code",
   "execution_count": 20,
   "id": "e3981740",
   "metadata": {},
   "outputs": [],
   "source": [
    "def loss_fn(theta, x, y):\n",
    "    prediction = model(theta, x)\n",
    "    return jnp.mean((prediction-y)**2)\n",
    "\n",
    "@jit\n",
    "def update(theta, x, y, lr=0.1):\n",
    "    return theta - lr * grad(loss_fn)(theta, x, y)\n",
    "\n",
    "def train(theta, x, y, lr=0.1):\n",
    "    for _ in range(100):\n",
    "        theta = update(theta, x, y, lr)\n",
    "    return theta"
   ]
  },
  {
   "cell_type": "code",
   "execution_count": 7,
   "id": "02b1d772",
   "metadata": {},
   "outputs": [
    {
     "name": "stdout",
     "output_type": "stream",
     "text": [
      "CPU times: user 6.67 s, sys: 15.8 ms, total: 6.69 s\n",
      "Wall time: 6.79 s\n"
     ]
    }
   ],
   "source": [
    "%%time\n",
    "for _ in range(1000):\n",
    "    theta = update(theta, xs, ys)"
   ]
  },
  {
   "cell_type": "code",
   "execution_count": 19,
   "id": "855e8dbb",
   "metadata": {},
   "outputs": [
    {
     "name": "stdout",
     "output_type": "stream",
     "text": [
      "CPU times: user 36.7 ms, sys: 3.79 ms, total: 40.5 ms\n",
      "Wall time: 39 ms\n"
     ]
    },
    {
     "data": {
      "text/plain": [
       "DeviceArray([1.3921113, 0.5853443], dtype=float32)"
      ]
     },
     "execution_count": 19,
     "metadata": {},
     "output_type": "execute_result"
    }
   ],
   "source": [
    "%%time\n",
    "update(theta, xs, ys)"
   ]
  },
  {
   "cell_type": "code",
   "execution_count": 49,
   "id": "3e6fb289",
   "metadata": {},
   "outputs": [
    {
     "name": "stdout",
     "output_type": "stream",
     "text": [
      "CPU times: user 783 µs, sys: 0 ns, total: 783 µs\n",
      "Wall time: 568 µs\n"
     ]
    }
   ],
   "source": [
    "%%time\n",
    "for _ in range(10):\n",
    "    update(theta, xs, ys)"
   ]
  },
  {
   "cell_type": "code",
   "execution_count": 52,
   "id": "67de4115",
   "metadata": {},
   "outputs": [
    {
     "name": "stdout",
     "output_type": "stream",
     "text": [
      "module @jit_update.31 {\n",
      "  func.func public @main(%arg0: tensor<2xf32>, %arg1: tensor<100xf32>, %arg2: tensor<100xf32>) -> tensor<2xf32> {\n",
      "    %0 = \"mhlo.slice\"(%arg0) {limit_indices = dense<1> : tensor<1xi64>, start_indices = dense<0> : tensor<1xi64>, strides = dense<1> : tensor<1xi64>} : (tensor<2xf32>) -> tensor<1xf32>\n",
      "    %1 = \"mhlo.reshape\"(%0) : (tensor<1xf32>) -> tensor<f32>\n",
      "    %2 = \"mhlo.slice\"(%arg0) {limit_indices = dense<2> : tensor<1xi64>, start_indices = dense<1> : tensor<1xi64>, strides = dense<1> : tensor<1xi64>} : (tensor<2xf32>) -> tensor<1xf32>\n",
      "    %3 = \"mhlo.reshape\"(%2) : (tensor<1xf32>) -> tensor<f32>\n",
      "    %4 = \"mhlo.broadcast_in_dim\"(%1) {broadcast_dimensions = dense<> : tensor<0xi64>} : (tensor<f32>) -> tensor<100xf32>\n",
      "    %5 = mhlo.multiply %4, %arg1 : tensor<100xf32>\n",
      "    %6 = \"mhlo.broadcast_in_dim\"(%3) {broadcast_dimensions = dense<> : tensor<0xi64>} : (tensor<f32>) -> tensor<100xf32>\n",
      "    %7 = mhlo.add %5, %6 : tensor<100xf32>\n",
      "    %8 = mhlo.subtract %7, %arg2 : tensor<100xf32>\n",
      "    %9 = mhlo.multiply %8, %8 : tensor<100xf32>\n",
      "    %10 = mhlo.constant dense<2.000000e+00> : tensor<f32>\n",
      "    %11 = \"mhlo.broadcast_in_dim\"(%10) {broadcast_dimensions = dense<> : tensor<0xi64>} : (tensor<f32>) -> tensor<100xf32>\n",
      "    %12 = mhlo.multiply %11, %8 : tensor<100xf32>\n",
      "    %13 = mhlo.constant dense<0.000000e+00> : tensor<f32>\n",
      "    %14 = mhlo.reduce(%9 init: %13) across dimensions = [0] : (tensor<100xf32>, tensor<f32>) -> tensor<f32>\n",
      "     reducer(%arg3: tensor<f32>, %arg4: tensor<f32>)  {\n",
      "      %38 = mhlo.add %arg3, %arg4 : tensor<f32>\n",
      "      \"mhlo.return\"(%38) : (tensor<f32>) -> ()\n",
      "    }\n",
      "    %15 = mhlo.constant dense<1.000000e+02> : tensor<f32>\n",
      "    %16 = mhlo.divide %14, %15 : tensor<f32>\n",
      "    %17 = mhlo.constant dense<1.000000e+00> : tensor<f32>\n",
      "    %18 = mhlo.constant dense<1.000000e+02> : tensor<f32>\n",
      "    %19 = mhlo.divide %17, %18 : tensor<f32>\n",
      "    %20 = \"mhlo.broadcast_in_dim\"(%19) {broadcast_dimensions = dense<> : tensor<0xi64>} : (tensor<f32>) -> tensor<100xf32>\n",
      "    %21 = mhlo.multiply %20, %12 : tensor<100xf32>\n",
      "    %22 = mhlo.constant dense<0.000000e+00> : tensor<f32>\n",
      "    %23 = mhlo.reduce(%21 init: %22) across dimensions = [0] : (tensor<100xf32>, tensor<f32>) -> tensor<f32>\n",
      "     reducer(%arg3: tensor<f32>, %arg4: tensor<f32>)  {\n",
      "      %38 = mhlo.add %arg3, %arg4 : tensor<f32>\n",
      "      \"mhlo.return\"(%38) : (tensor<f32>) -> ()\n",
      "    }\n",
      "    %24 = \"mhlo.broadcast_in_dim\"(%23) {broadcast_dimensions = dense<> : tensor<0xi64>} : (tensor<f32>) -> tensor<1xf32>\n",
      "    %25 = mhlo.constant dense<0.000000e+00> : tensor<f32>\n",
      "    %26 = \"mhlo.pad\"(%24, %25) {edge_padding_high = dense<0> : tensor<1xi64>, edge_padding_low = dense<1> : tensor<1xi64>, interior_padding = dense<0> : tensor<1xi64>} : (tensor<1xf32>, tensor<f32>) -> tensor<2xf32>\n",
      "    %27 = mhlo.multiply %21, %arg1 : tensor<100xf32>\n",
      "    %28 = mhlo.constant dense<0.000000e+00> : tensor<f32>\n",
      "    %29 = mhlo.reduce(%27 init: %28) across dimensions = [0] : (tensor<100xf32>, tensor<f32>) -> tensor<f32>\n",
      "     reducer(%arg3: tensor<f32>, %arg4: tensor<f32>)  {\n",
      "      %38 = mhlo.add %arg3, %arg4 : tensor<f32>\n",
      "      \"mhlo.return\"(%38) : (tensor<f32>) -> ()\n",
      "    }\n",
      "    %30 = \"mhlo.broadcast_in_dim\"(%29) {broadcast_dimensions = dense<> : tensor<0xi64>} : (tensor<f32>) -> tensor<1xf32>\n",
      "    %31 = mhlo.constant dense<0.000000e+00> : tensor<f32>\n",
      "    %32 = \"mhlo.pad\"(%30, %31) {edge_padding_high = dense<1> : tensor<1xi64>, edge_padding_low = dense<0> : tensor<1xi64>, interior_padding = dense<0> : tensor<1xi64>} : (tensor<1xf32>, tensor<f32>) -> tensor<2xf32>\n",
      "    %33 = mhlo.add %26, %32 : tensor<2xf32>\n",
      "    %34 = mhlo.constant dense<1.000000e-01> : tensor<f32>\n",
      "    %35 = \"mhlo.broadcast_in_dim\"(%34) {broadcast_dimensions = dense<> : tensor<0xi64>} : (tensor<f32>) -> tensor<2xf32>\n",
      "    %36 = mhlo.multiply %35, %33 : tensor<2xf32>\n",
      "    %37 = mhlo.subtract %arg0, %36 : tensor<2xf32>\n",
      "    return %37 : tensor<2xf32>\n",
      "  }\n",
      "}\n",
      "\n"
     ]
    }
   ],
   "source": [
    "lowered = update.lower(theta, xs, ys)\n",
    "print(lowered.as_text())"
   ]
  },
  {
   "cell_type": "code",
   "execution_count": 53,
   "id": "e6166d29",
   "metadata": {},
   "outputs": [],
   "source": [
    "compiled = lowered.compile()"
   ]
  },
  {
   "cell_type": "code",
   "execution_count": 57,
   "id": "c1973785",
   "metadata": {},
   "outputs": [
    {
     "name": "stdout",
     "output_type": "stream",
     "text": [
      "HloModule jit_update.31, entry_computation_layout={(f32[2]{0},f32[100]{0},f32[100]{0})->f32[2]{0}}\n",
      "\n",
      "%region_0.22 (Arg_0.23: f32[], Arg_1.24: f32[]) -> f32[] {\n",
      "  %Arg_0.23 = f32[] parameter(0)\n",
      "  %Arg_1.24 = f32[] parameter(1)\n",
      "  ROOT %add.25 = f32[] add(f32[] %Arg_0.23, f32[] %Arg_1.24), metadata={op_name=\"jit(update)/jit(main)/reduce_sum[axes=(0,)]\" source_file=\"/tmp/ipykernel_1033948/1835602308.py\" source_line=4}\n",
      "}\n",
      "\n",
      "%region_1.30 (Arg_0.31: f32[], Arg_1.32: f32[]) -> f32[] {\n",
      "  %Arg_0.31 = f32[] parameter(0)\n",
      "  %Arg_1.32 = f32[] parameter(1)\n",
      "  ROOT %add.33 = f32[] add(f32[] %Arg_0.31, f32[] %Arg_1.32), metadata={op_name=\"jit(update)/jit(main)/reduce_sum[axes=(0,)]\" source_file=\"/tmp/ipykernel_1033948/1835602308.py\" source_line=3}\n",
      "}\n",
      "\n",
      "%fused_computation (param_0: f32[2], param_1.4: f32[4], param_2.6: f32[4]) -> f32[2] {\n",
      "  %param_0 = f32[2]{0} parameter(0)\n",
      "  %param_2.6 = f32[4]{0} parameter(2)\n",
      "  %constant.2 = f32[] constant(0)\n",
      "  %reduce.3 = f32[] reduce(f32[4]{0} %param_2.6, f32[] %constant.2), dimensions={0}, to_apply=%region_0.22, metadata={op_name=\"jit(update)/jit(main)/reduce_sum[axes=(0,)]\" source_file=\"/tmp/ipykernel_1033948/1835602308.py\" source_line=4}\n",
      "  %reshape.1 = f32[1]{0} reshape(f32[] %reduce.3), metadata={op_name=\"jit(update)/jit(main)/broadcast_in_dim[shape=(1,) broadcast_dimensions=()]\" source_file=\"/tmp/ipykernel_1033948/1835602308.py\" source_line=3}\n",
      "  %pad.1 = f32[2]{0} pad(f32[1]{0} %reshape.1, f32[] %constant.2), padding=1_0, metadata={op_name=\"jit(update)/jit(main)/pad[padding_config=((1, 0, 0),)]\" source_file=\"/tmp/ipykernel_1033948/1835602308.py\" source_line=3}\n",
      "  %param_1.4 = f32[4]{0} parameter(1)\n",
      "  %reduce.2 = f32[] reduce(f32[4]{0} %param_1.4, f32[] %constant.2), dimensions={0}, to_apply=%region_1.30, metadata={op_name=\"jit(update)/jit(main)/reduce_sum[axes=(0,)]\" source_file=\"/tmp/ipykernel_1033948/1835602308.py\" source_line=3}\n",
      "  %reshape.0 = f32[1]{0} reshape(f32[] %reduce.2), metadata={op_name=\"jit(update)/jit(main)/broadcast_in_dim[shape=(1,) broadcast_dimensions=()]\" source_file=\"/tmp/ipykernel_1033948/1835602308.py\" source_line=3}\n",
      "  %pad.0 = f32[2]{0} pad(f32[1]{0} %reshape.0, f32[] %constant.2), padding=0_1, metadata={op_name=\"jit(update)/jit(main)/pad[padding_config=((0, 1, 0),)]\" source_file=\"/tmp/ipykernel_1033948/1835602308.py\" source_line=3}\n",
      "  %add.0 = f32[2]{0} add(f32[2]{0} %pad.1, f32[2]{0} %pad.0), metadata={op_name=\"jit(update)/jit(main)/add_any\" source_file=\"/tmp/ipykernel_1033948/1835602308.py\" source_line=3}\n",
      "  %constant.1 = f32[] constant(0.1)\n",
      "  %broadcast.1 = f32[2]{0} broadcast(f32[] %constant.1), dimensions={}\n",
      "  %multiply.2 = f32[2]{0} multiply(f32[2]{0} %add.0, f32[2]{0} %broadcast.1), metadata={op_name=\"jit(update)/jit(main)/mul\" source_file=\"/tmp/ipykernel_1033948/1573330193.py\" source_line=7}\n",
      "  ROOT %subtract.0 = f32[2]{0} subtract(f32[2]{0} %param_0, f32[2]{0} %multiply.2), metadata={op_name=\"jit(update)/jit(main)/sub\" source_file=\"/tmp/ipykernel_1033948/1573330193.py\" source_line=7}\n",
      "}\n",
      "\n",
      "%fused_computation.1 (param_0.2: f32[100], param_1.8: f32[100], param_2.11: f32[2]) -> f32[100] {\n",
      "  %param_2.11 = f32[2]{0} parameter(2)\n",
      "  %slice.1 = f32[1]{0} slice(f32[2]{0} %param_2.11), slice={[0:1]}, metadata={op_name=\"jit(update)/jit(main)/slice[start_indices=(0,) limit_indices=(1,) strides=(1,)]\" source_file=\"/tmp/ipykernel_1033948/1835602308.py\" source_line=3}\n",
      "  %reshape.3 = f32[] reshape(f32[1]{0} %slice.1), metadata={op_name=\"jit(update)/jit(main)/squeeze[dimensions=(0,)]\" source_file=\"/tmp/ipykernel_1033948/1835602308.py\" source_line=3}\n",
      "  %broadcast.4 = f32[100]{0} broadcast(f32[] %reshape.3), dimensions={}, metadata={op_name=\"jit(update)/jit(main)/mul\" source_file=\"/tmp/ipykernel_1033948/1835602308.py\" source_line=3}\n",
      "  %param_0.2 = f32[100]{0} parameter(0)\n",
      "  %multiply.5 = f32[100]{0} multiply(f32[100]{0} %broadcast.4, f32[100]{0} %param_0.2), metadata={op_name=\"jit(update)/jit(main)/mul\" source_file=\"/tmp/ipykernel_1033948/1835602308.py\" source_line=3}\n",
      "  %slice.0 = f32[1]{0} slice(f32[2]{0} %param_2.11), slice={[1:2]}, metadata={op_name=\"jit(update)/jit(main)/slice[start_indices=(1,) limit_indices=(2,) strides=(1,)]\" source_file=\"/tmp/ipykernel_1033948/1835602308.py\" source_line=3}\n",
      "  %reshape.2 = f32[] reshape(f32[1]{0} %slice.0), metadata={op_name=\"jit(update)/jit(main)/squeeze[dimensions=(0,)]\" source_file=\"/tmp/ipykernel_1033948/1835602308.py\" source_line=3}\n",
      "  %broadcast.3 = f32[100]{0} broadcast(f32[] %reshape.2), dimensions={}, metadata={op_name=\"jit(update)/jit(main)/add\" source_file=\"/tmp/ipykernel_1033948/1835602308.py\" source_line=4}\n",
      "  %add.1 = f32[100]{0} add(f32[100]{0} %multiply.5, f32[100]{0} %broadcast.3), metadata={op_name=\"jit(update)/jit(main)/add\" source_file=\"/tmp/ipykernel_1033948/1835602308.py\" source_line=4}\n",
      "  %param_1.8 = f32[100]{0} parameter(1)\n",
      "  %subtract.1 = f32[100]{0} subtract(f32[100]{0} %add.1, f32[100]{0} %param_1.8), metadata={op_name=\"jit(update)/jit(main)/sub\" source_file=\"/tmp/ipykernel_1033948/1573330193.py\" source_line=2}\n",
      "  %constant.3 = f32[] constant(0.02)\n",
      "  %broadcast.2 = f32[100]{0} broadcast(f32[] %constant.3), dimensions={}, metadata={op_name=\"jit(update)/jit(main)/mul\" source_file=\"/tmp/ipykernel_1033948/1573330193.py\" source_line=3}\n",
      "  %multiply.4 = f32[100]{0} multiply(f32[100]{0} %subtract.1, f32[100]{0} %broadcast.2), metadata={op_name=\"jit(update)/jit(main)/mul\" source_file=\"/tmp/ipykernel_1033948/1573330193.py\" source_line=3}\n",
      "  ROOT %multiply.3 = f32[100]{0} multiply(f32[100]{0} %multiply.4, f32[100]{0} %param_0.2), metadata={op_name=\"jit(update)/jit(main)/mul\" source_file=\"/tmp/ipykernel_1033948/1835602308.py\" source_line=3}\n",
      "}\n",
      "\n",
      "%fused_computation.2 (param_0.5: f32[100], param_1.13: f32[2], param_2.17: f32[100]) -> f32[100] {\n",
      "  %param_1.13 = f32[2]{0} parameter(1)\n",
      "  %slice.3 = f32[1]{0} slice(f32[2]{0} %param_1.13), slice={[0:1]}, metadata={op_name=\"jit(update)/jit(main)/slice[start_indices=(0,) limit_indices=(1,) strides=(1,)]\" source_file=\"/tmp/ipykernel_1033948/1835602308.py\" source_line=3}\n",
      "  %reshape.5 = f32[] reshape(f32[1]{0} %slice.3), metadata={op_name=\"jit(update)/jit(main)/squeeze[dimensions=(0,)]\" source_file=\"/tmp/ipykernel_1033948/1835602308.py\" source_line=3}\n",
      "  %broadcast.10 = f32[100]{0} broadcast(f32[] %reshape.5), dimensions={}, metadata={op_name=\"jit(update)/jit(main)/mul\" source_file=\"/tmp/ipykernel_1033948/1835602308.py\" source_line=3}\n",
      "  %param_2.17 = f32[100]{0} parameter(2)\n",
      "  %multiply.7 = f32[100]{0} multiply(f32[100]{0} %broadcast.10, f32[100]{0} %param_2.17), metadata={op_name=\"jit(update)/jit(main)/mul\" source_file=\"/tmp/ipykernel_1033948/1835602308.py\" source_line=3}\n",
      "  %slice.2 = f32[1]{0} slice(f32[2]{0} %param_1.13), slice={[1:2]}, metadata={op_name=\"jit(update)/jit(main)/slice[start_indices=(1,) limit_indices=(2,) strides=(1,)]\" source_file=\"/tmp/ipykernel_1033948/1835602308.py\" source_line=3}\n",
      "  %reshape.4 = f32[] reshape(f32[1]{0} %slice.2), metadata={op_name=\"jit(update)/jit(main)/squeeze[dimensions=(0,)]\" source_file=\"/tmp/ipykernel_1033948/1835602308.py\" source_line=3}\n",
      "  %broadcast.8 = f32[100]{0} broadcast(f32[] %reshape.4), dimensions={}, metadata={op_name=\"jit(update)/jit(main)/add\" source_file=\"/tmp/ipykernel_1033948/1835602308.py\" source_line=4}\n",
      "  %add.2 = f32[100]{0} add(f32[100]{0} %multiply.7, f32[100]{0} %broadcast.8), metadata={op_name=\"jit(update)/jit(main)/add\" source_file=\"/tmp/ipykernel_1033948/1835602308.py\" source_line=4}\n",
      "  %param_0.5 = f32[100]{0} parameter(0)\n",
      "  %subtract.2 = f32[100]{0} subtract(f32[100]{0} %add.2, f32[100]{0} %param_0.5), metadata={op_name=\"jit(update)/jit(main)/sub\" source_file=\"/tmp/ipykernel_1033948/1573330193.py\" source_line=2}\n",
      "  %constant.5 = f32[] constant(0.02)\n",
      "  %broadcast.6 = f32[100]{0} broadcast(f32[] %constant.5), dimensions={}, metadata={op_name=\"jit(update)/jit(main)/mul\" source_file=\"/tmp/ipykernel_1033948/1573330193.py\" source_line=3}\n",
      "  ROOT %multiply.6 = f32[100]{0} multiply(f32[100]{0} %subtract.2, f32[100]{0} %broadcast.6), metadata={op_name=\"jit(update)/jit(main)/mul\" source_file=\"/tmp/ipykernel_1033948/1573330193.py\" source_line=3}\n",
      "}\n",
      "\n",
      "ENTRY %main.40 (Arg_0.1: f32[2], Arg_1.2: f32[100], Arg_2.3: f32[100]) -> f32[2] {\n",
      "  %Arg_0.1 = f32[2]{0} parameter(0)\n",
      "  %Arg_1.2 = f32[100]{0} parameter(1)\n",
      "  %Arg_2.3 = f32[100]{0} parameter(2)\n",
      "  %fusion.1 = f32[100]{0} fusion(f32[100]{0} %Arg_1.2, f32[100]{0} %Arg_2.3, f32[2]{0} %Arg_0.1), kind=kLoop, calls=%fused_computation.1, metadata={op_name=\"jit(update)/jit(main)/mul\" source_file=\"/tmp/ipykernel_1033948/1835602308.py\" source_line=3}\n",
      "  %constant.10 = f32[] constant(0)\n",
      "  %reduce-window.1 = f32[4]{0} reduce-window(f32[100]{0} %fusion.1, f32[] %constant.10), window={size=32 stride=32 pad=14_14}, to_apply=%region_1.30\n",
      "  %fusion.2 = f32[100]{0} fusion(f32[100]{0} %Arg_2.3, f32[2]{0} %Arg_0.1, f32[100]{0} %Arg_1.2), kind=kLoop, calls=%fused_computation.2, metadata={op_name=\"jit(update)/jit(main)/mul\" source_file=\"/tmp/ipykernel_1033948/1573330193.py\" source_line=3}\n",
      "  %reduce-window = f32[4]{0} reduce-window(f32[100]{0} %fusion.2, f32[] %constant.10), window={size=32 stride=32 pad=14_14}, to_apply=%region_0.22\n",
      "  ROOT %fusion = f32[2]{0} fusion(f32[2]{0} %Arg_0.1, f32[4]{0} %reduce-window.1, f32[4]{0} %reduce-window), kind=kLoop, calls=%fused_computation, metadata={op_name=\"jit(update)/jit(main)/sub\" source_file=\"/tmp/ipykernel_1033948/1573330193.py\" source_line=7}\n",
      "}\n",
      "\n",
      "\n"
     ]
    }
   ],
   "source": [
    "print(compiled.as_text())"
   ]
  },
  {
   "cell_type": "code",
   "execution_count": null,
   "id": "51abe83c",
   "metadata": {},
   "outputs": [],
   "source": []
  },
  {
   "cell_type": "code",
   "execution_count": 11,
   "id": "ee5ad89a",
   "metadata": {},
   "outputs": [
    {
     "data": {
      "text/plain": [
       "<function __main__.train(theta, x, y, lr=0.1)>"
      ]
     },
     "execution_count": 11,
     "metadata": {},
     "output_type": "execute_result"
    }
   ],
   "source": [
    "train"
   ]
  },
  {
   "cell_type": "code",
   "execution_count": 8,
   "id": "6405d3eb",
   "metadata": {},
   "outputs": [],
   "source": [
    "import jax"
   ]
  },
  {
   "cell_type": "code",
   "execution_count": 15,
   "id": "216bc578",
   "metadata": {},
   "outputs": [
    {
     "data": {
      "text/plain": [
       "{ lambda ; a:f32[2] b:f32[100] c:f32[100]. let\n",
       "    d:f32[2] = xla_call[\n",
       "      call_jaxpr={ lambda ; e:f32[2] f:f32[100] g:f32[100]. let\n",
       "          h:f32[1] = slice[limit_indices=(1,) start_indices=(0,) strides=(1,)] e\n",
       "          i:f32[] = squeeze[dimensions=(0,)] h\n",
       "          j:f32[1] = slice[limit_indices=(2,) start_indices=(1,) strides=(1,)] e\n",
       "          k:f32[] = squeeze[dimensions=(0,)] j\n",
       "          l:f32[100] = mul i f\n",
       "          m:f32[100] = add l k\n",
       "          n:f32[100] = sub m g\n",
       "          o:f32[100] = integer_pow[y=2] n\n",
       "          p:f32[100] = integer_pow[y=1] n\n",
       "          q:f32[100] = mul 2.0 p\n",
       "          r:f32[] = reduce_sum[axes=(0,)] o\n",
       "          _:f32[] = div r 100.0\n",
       "          s:f32[] = div 1.0 100.0\n",
       "          t:f32[100] = broadcast_in_dim[broadcast_dimensions=() shape=(100,)] s\n",
       "          u:f32[100] = mul t q\n",
       "          v:f32[] = reduce_sum[axes=(0,)] u\n",
       "          w:f32[1] = broadcast_in_dim[broadcast_dimensions=() shape=(1,)] v\n",
       "          x:f32[2] = pad[padding_config=((1, 0, 0),)] w 0.0\n",
       "          y:f32[100] = mul u f\n",
       "          z:f32[] = reduce_sum[axes=(0,)] y\n",
       "          ba:f32[1] = broadcast_in_dim[broadcast_dimensions=() shape=(1,)] z\n",
       "          bb:f32[2] = pad[padding_config=((0, 1, 0),)] ba 0.0\n",
       "          bc:f32[2] = add_any x bb\n",
       "          bd:f32[2] = mul 0.10000000149011612 bc\n",
       "          be:f32[2] = sub e bd\n",
       "        in (be,) }\n",
       "      name=update\n",
       "    ] a b c\n",
       "  in (d,) }"
      ]
     },
     "execution_count": 15,
     "metadata": {},
     "output_type": "execute_result"
    }
   ],
   "source": [
    "jax.make_jaxpr(update)(theta, xs, ys)"
   ]
  },
  {
   "cell_type": "code",
   "execution_count": 12,
   "id": "723392c9",
   "metadata": {},
   "outputs": [
    {
     "data": {
      "text/plain": [
       "{ lambda ; a:f32[2] b:f32[100] c:f32[100]. let\n",
       "    d:f32[2] = xla_call[\n",
       "      call_jaxpr={ lambda ; e:f32[2] f:f32[100] g:f32[100] h:f32[]. let\n",
       "          i:f32[1] = slice[limit_indices=(1,) start_indices=(0,) strides=(1,)] e\n",
       "          j:f32[] = squeeze[dimensions=(0,)] i\n",
       "          k:f32[1] = slice[limit_indices=(2,) start_indices=(1,) strides=(1,)] e\n",
       "          l:f32[] = squeeze[dimensions=(0,)] k\n",
       "          m:f32[100] = mul j f\n",
       "          n:f32[100] = add m l\n",
       "          o:f32[100] = sub n g\n",
       "          p:f32[100] = integer_pow[y=2] o\n",
       "          q:f32[100] = integer_pow[y=1] o\n",
       "          r:f32[100] = mul 2.0 q\n",
       "          s:f32[] = reduce_sum[axes=(0,)] p\n",
       "          _:f32[] = div s 100.0\n",
       "          t:f32[] = div 1.0 100.0\n",
       "          u:f32[100] = broadcast_in_dim[broadcast_dimensions=() shape=(100,)] t\n",
       "          v:f32[100] = mul u r\n",
       "          w:f32[] = reduce_sum[axes=(0,)] v\n",
       "          x:f32[1] = broadcast_in_dim[broadcast_dimensions=() shape=(1,)] w\n",
       "          y:f32[2] = pad[padding_config=((1, 0, 0),)] x 0.0\n",
       "          z:f32[100] = mul v f\n",
       "          ba:f32[] = reduce_sum[axes=(0,)] z\n",
       "          bb:f32[1] = broadcast_in_dim[broadcast_dimensions=() shape=(1,)] ba\n",
       "          bc:f32[2] = pad[padding_config=((0, 1, 0),)] bb 0.0\n",
       "          bd:f32[2] = add_any y bc\n",
       "          be:f32[] = convert_element_type[new_dtype=float32 weak_type=False] h\n",
       "          bf:f32[2] = mul be bd\n",
       "          bg:f32[2] = sub e bf\n",
       "        in (bg,) }\n",
       "      name=update\n",
       "    ] a b c 0.1\n",
       "    bh:f32[2] = xla_call[\n",
       "      call_jaxpr={ lambda ; bi:f32[2] bj:f32[100] bk:f32[100] bl:f32[]. let\n",
       "          bm:f32[1] = slice[limit_indices=(1,) start_indices=(0,) strides=(1,)] bi\n",
       "          bn:f32[] = squeeze[dimensions=(0,)] bm\n",
       "          bo:f32[1] = slice[limit_indices=(2,) start_indices=(1,) strides=(1,)] bi\n",
       "          bp:f32[] = squeeze[dimensions=(0,)] bo\n",
       "          bq:f32[100] = mul bn bj\n",
       "          br:f32[100] = add bq bp\n",
       "          bs:f32[100] = sub br bk\n",
       "          bt:f32[100] = integer_pow[y=2] bs\n",
       "          bu:f32[100] = integer_pow[y=1] bs\n",
       "          bv:f32[100] = mul 2.0 bu\n",
       "          bw:f32[] = reduce_sum[axes=(0,)] bt\n",
       "          _:f32[] = div bw 100.0\n",
       "          bx:f32[] = div 1.0 100.0\n",
       "          by:f32[100] = broadcast_in_dim[broadcast_dimensions=() shape=(100,)] bx\n",
       "          bz:f32[100] = mul by bv\n",
       "          ca:f32[] = reduce_sum[axes=(0,)] bz\n",
       "          cb:f32[1] = broadcast_in_dim[broadcast_dimensions=() shape=(1,)] ca\n",
       "          cc:f32[2] = pad[padding_config=((1, 0, 0),)] cb 0.0\n",
       "          cd:f32[100] = mul bz bj\n",
       "          ce:f32[] = reduce_sum[axes=(0,)] cd\n",
       "          cf:f32[1] = broadcast_in_dim[broadcast_dimensions=() shape=(1,)] ce\n",
       "          cg:f32[2] = pad[padding_config=((0, 1, 0),)] cf 0.0\n",
       "          ch:f32[2] = add_any cc cg\n",
       "          ci:f32[] = convert_element_type[new_dtype=float32 weak_type=False] bl\n",
       "          cj:f32[2] = mul ci ch\n",
       "          ck:f32[2] = sub bi cj\n",
       "        in (ck,) }\n",
       "      name=update\n",
       "    ] d b c 0.1\n",
       "    cl:f32[2] = xla_call[\n",
       "      call_jaxpr={ lambda ; cm:f32[2] cn:f32[100] co:f32[100] cp:f32[]. let\n",
       "          cq:f32[1] = slice[limit_indices=(1,) start_indices=(0,) strides=(1,)] cm\n",
       "          cr:f32[] = squeeze[dimensions=(0,)] cq\n",
       "          cs:f32[1] = slice[limit_indices=(2,) start_indices=(1,) strides=(1,)] cm\n",
       "          ct:f32[] = squeeze[dimensions=(0,)] cs\n",
       "          cu:f32[100] = mul cr cn\n",
       "          cv:f32[100] = add cu ct\n",
       "          cw:f32[100] = sub cv co\n",
       "          cx:f32[100] = integer_pow[y=2] cw\n",
       "          cy:f32[100] = integer_pow[y=1] cw\n",
       "          cz:f32[100] = mul 2.0 cy\n",
       "          da:f32[] = reduce_sum[axes=(0,)] cx\n",
       "          _:f32[] = div da 100.0\n",
       "          db:f32[] = div 1.0 100.0\n",
       "          dc:f32[100] = broadcast_in_dim[broadcast_dimensions=() shape=(100,)] db\n",
       "          dd:f32[100] = mul dc cz\n",
       "          de:f32[] = reduce_sum[axes=(0,)] dd\n",
       "          df:f32[1] = broadcast_in_dim[broadcast_dimensions=() shape=(1,)] de\n",
       "          dg:f32[2] = pad[padding_config=((1, 0, 0),)] df 0.0\n",
       "          dh:f32[100] = mul dd cn\n",
       "          di:f32[] = reduce_sum[axes=(0,)] dh\n",
       "          dj:f32[1] = broadcast_in_dim[broadcast_dimensions=() shape=(1,)] di\n",
       "          dk:f32[2] = pad[padding_config=((0, 1, 0),)] dj 0.0\n",
       "          dl:f32[2] = add_any dg dk\n",
       "          dm:f32[] = convert_element_type[new_dtype=float32 weak_type=False] cp\n",
       "          dn:f32[2] = mul dm dl\n",
       "          do:f32[2] = sub cm dn\n",
       "        in (do,) }\n",
       "      name=update\n",
       "    ] bh b c 0.1\n",
       "    dp:f32[2] = xla_call[\n",
       "      call_jaxpr={ lambda ; dq:f32[2] dr:f32[100] ds:f32[100] dt:f32[]. let\n",
       "          du:f32[1] = slice[limit_indices=(1,) start_indices=(0,) strides=(1,)] dq\n",
       "          dv:f32[] = squeeze[dimensions=(0,)] du\n",
       "          dw:f32[1] = slice[limit_indices=(2,) start_indices=(1,) strides=(1,)] dq\n",
       "          dx:f32[] = squeeze[dimensions=(0,)] dw\n",
       "          dy:f32[100] = mul dv dr\n",
       "          dz:f32[100] = add dy dx\n",
       "          ea:f32[100] = sub dz ds\n",
       "          eb:f32[100] = integer_pow[y=2] ea\n",
       "          ec:f32[100] = integer_pow[y=1] ea\n",
       "          ed:f32[100] = mul 2.0 ec\n",
       "          ee:f32[] = reduce_sum[axes=(0,)] eb\n",
       "          _:f32[] = div ee 100.0\n",
       "          ef:f32[] = div 1.0 100.0\n",
       "          eg:f32[100] = broadcast_in_dim[broadcast_dimensions=() shape=(100,)] ef\n",
       "          eh:f32[100] = mul eg ed\n",
       "          ei:f32[] = reduce_sum[axes=(0,)] eh\n",
       "          ej:f32[1] = broadcast_in_dim[broadcast_dimensions=() shape=(1,)] ei\n",
       "          ek:f32[2] = pad[padding_config=((1, 0, 0),)] ej 0.0\n",
       "          el:f32[100] = mul eh dr\n",
       "          em:f32[] = reduce_sum[axes=(0,)] el\n",
       "          en:f32[1] = broadcast_in_dim[broadcast_dimensions=() shape=(1,)] em\n",
       "          eo:f32[2] = pad[padding_config=((0, 1, 0),)] en 0.0\n",
       "          ep:f32[2] = add_any ek eo\n",
       "          eq:f32[] = convert_element_type[new_dtype=float32 weak_type=False] dt\n",
       "          er:f32[2] = mul eq ep\n",
       "          es:f32[2] = sub dq er\n",
       "        in (es,) }\n",
       "      name=update\n",
       "    ] cl b c 0.1\n",
       "    et:f32[2] = xla_call[\n",
       "      call_jaxpr={ lambda ; eu:f32[2] ev:f32[100] ew:f32[100] ex:f32[]. let\n",
       "          ey:f32[1] = slice[limit_indices=(1,) start_indices=(0,) strides=(1,)] eu\n",
       "          ez:f32[] = squeeze[dimensions=(0,)] ey\n",
       "          fa:f32[1] = slice[limit_indices=(2,) start_indices=(1,) strides=(1,)] eu\n",
       "          fb:f32[] = squeeze[dimensions=(0,)] fa\n",
       "          fc:f32[100] = mul ez ev\n",
       "          fd:f32[100] = add fc fb\n",
       "          fe:f32[100] = sub fd ew\n",
       "          ff:f32[100] = integer_pow[y=2] fe\n",
       "          fg:f32[100] = integer_pow[y=1] fe\n",
       "          fh:f32[100] = mul 2.0 fg\n",
       "          fi:f32[] = reduce_sum[axes=(0,)] ff\n",
       "          _:f32[] = div fi 100.0\n",
       "          fj:f32[] = div 1.0 100.0\n",
       "          fk:f32[100] = broadcast_in_dim[broadcast_dimensions=() shape=(100,)] fj\n",
       "          fl:f32[100] = mul fk fh\n",
       "          fm:f32[] = reduce_sum[axes=(0,)] fl\n",
       "          fn:f32[1] = broadcast_in_dim[broadcast_dimensions=() shape=(1,)] fm\n",
       "          fo:f32[2] = pad[padding_config=((1, 0, 0),)] fn 0.0\n",
       "          fp:f32[100] = mul fl ev\n",
       "          fq:f32[] = reduce_sum[axes=(0,)] fp\n",
       "          fr:f32[1] = broadcast_in_dim[broadcast_dimensions=() shape=(1,)] fq\n",
       "          fs:f32[2] = pad[padding_config=((0, 1, 0),)] fr 0.0\n",
       "          ft:f32[2] = add_any fo fs\n",
       "          fu:f32[] = convert_element_type[new_dtype=float32 weak_type=False] ex\n",
       "          fv:f32[2] = mul fu ft\n",
       "          fw:f32[2] = sub eu fv\n",
       "        in (fw,) }\n",
       "      name=update\n",
       "    ] dp b c 0.1\n",
       "    fx:f32[2] = xla_call[\n",
       "      call_jaxpr={ lambda ; fy:f32[2] fz:f32[100] ga:f32[100] gb:f32[]. let\n",
       "          gc:f32[1] = slice[limit_indices=(1,) start_indices=(0,) strides=(1,)] fy\n",
       "          gd:f32[] = squeeze[dimensions=(0,)] gc\n",
       "          ge:f32[1] = slice[limit_indices=(2,) start_indices=(1,) strides=(1,)] fy\n",
       "          gf:f32[] = squeeze[dimensions=(0,)] ge\n",
       "          gg:f32[100] = mul gd fz\n",
       "          gh:f32[100] = add gg gf\n",
       "          gi:f32[100] = sub gh ga\n",
       "          gj:f32[100] = integer_pow[y=2] gi\n",
       "          gk:f32[100] = integer_pow[y=1] gi\n",
       "          gl:f32[100] = mul 2.0 gk\n",
       "          gm:f32[] = reduce_sum[axes=(0,)] gj\n",
       "          _:f32[] = div gm 100.0\n",
       "          gn:f32[] = div 1.0 100.0\n",
       "          go:f32[100] = broadcast_in_dim[broadcast_dimensions=() shape=(100,)] gn\n",
       "          gp:f32[100] = mul go gl\n",
       "          gq:f32[] = reduce_sum[axes=(0,)] gp\n",
       "          gr:f32[1] = broadcast_in_dim[broadcast_dimensions=() shape=(1,)] gq\n",
       "          gs:f32[2] = pad[padding_config=((1, 0, 0),)] gr 0.0\n",
       "          gt:f32[100] = mul gp fz\n",
       "          gu:f32[] = reduce_sum[axes=(0,)] gt\n",
       "          gv:f32[1] = broadcast_in_dim[broadcast_dimensions=() shape=(1,)] gu\n",
       "          gw:f32[2] = pad[padding_config=((0, 1, 0),)] gv 0.0\n",
       "          gx:f32[2] = add_any gs gw\n",
       "          gy:f32[] = convert_element_type[new_dtype=float32 weak_type=False] gb\n",
       "          gz:f32[2] = mul gy gx\n",
       "          ha:f32[2] = sub fy gz\n",
       "        in (ha,) }\n",
       "      name=update\n",
       "    ] et b c 0.1\n",
       "    hb:f32[2] = xla_call[\n",
       "      call_jaxpr={ lambda ; hc:f32[2] hd:f32[100] he:f32[100] hf:f32[]. let\n",
       "          hg:f32[1] = slice[limit_indices=(1,) start_indices=(0,) strides=(1,)] hc\n",
       "          hh:f32[] = squeeze[dimensions=(0,)] hg\n",
       "          hi:f32[1] = slice[limit_indices=(2,) start_indices=(1,) strides=(1,)] hc\n",
       "          hj:f32[] = squeeze[dimensions=(0,)] hi\n",
       "          hk:f32[100] = mul hh hd\n",
       "          hl:f32[100] = add hk hj\n",
       "          hm:f32[100] = sub hl he\n",
       "          hn:f32[100] = integer_pow[y=2] hm\n",
       "          ho:f32[100] = integer_pow[y=1] hm\n",
       "          hp:f32[100] = mul 2.0 ho\n",
       "          hq:f32[] = reduce_sum[axes=(0,)] hn\n",
       "          _:f32[] = div hq 100.0\n",
       "          hr:f32[] = div 1.0 100.0\n",
       "          hs:f32[100] = broadcast_in_dim[broadcast_dimensions=() shape=(100,)] hr\n",
       "          ht:f32[100] = mul hs hp\n",
       "          hu:f32[] = reduce_sum[axes=(0,)] ht\n",
       "          hv:f32[1] = broadcast_in_dim[broadcast_dimensions=() shape=(1,)] hu\n",
       "          hw:f32[2] = pad[padding_config=((1, 0, 0),)] hv 0.0\n",
       "          hx:f32[100] = mul ht hd\n",
       "          hy:f32[] = reduce_sum[axes=(0,)] hx\n",
       "          hz:f32[1] = broadcast_in_dim[broadcast_dimensions=() shape=(1,)] hy\n",
       "          ia:f32[2] = pad[padding_config=((0, 1, 0),)] hz 0.0\n",
       "          ib:f32[2] = add_any hw ia\n",
       "          ic:f32[] = convert_element_type[new_dtype=float32 weak_type=False] hf\n",
       "          id:f32[2] = mul ic ib\n",
       "          ie:f32[2] = sub hc id\n",
       "        in (ie,) }\n",
       "      name=update\n",
       "    ] fx b c 0.1\n",
       "    if:f32[2] = xla_call[\n",
       "      call_jaxpr={ lambda ; ig:f32[2] ih:f32[100] ii:f32[100] ij:f32[]. let\n",
       "          ik:f32[1] = slice[limit_indices=(1,) start_indices=(0,) strides=(1,)] ig\n",
       "          il:f32[] = squeeze[dimensions=(0,)] ik\n",
       "          im:f32[1] = slice[limit_indices=(2,) start_indices=(1,) strides=(1,)] ig\n",
       "          in:f32[] = squeeze[dimensions=(0,)] im\n",
       "          io:f32[100] = mul il ih\n",
       "          ip:f32[100] = add io in\n",
       "          iq:f32[100] = sub ip ii\n",
       "          ir:f32[100] = integer_pow[y=2] iq\n",
       "          is:f32[100] = integer_pow[y=1] iq\n",
       "          it:f32[100] = mul 2.0 is\n",
       "          iu:f32[] = reduce_sum[axes=(0,)] ir\n",
       "          _:f32[] = div iu 100.0\n",
       "          iv:f32[] = div 1.0 100.0\n",
       "          iw:f32[100] = broadcast_in_dim[broadcast_dimensions=() shape=(100,)] iv\n",
       "          ix:f32[100] = mul iw it\n",
       "          iy:f32[] = reduce_sum[axes=(0,)] ix\n",
       "          iz:f32[1] = broadcast_in_dim[broadcast_dimensions=() shape=(1,)] iy\n",
       "          ja:f32[2] = pad[padding_config=((1, 0, 0),)] iz 0.0\n",
       "          jb:f32[100] = mul ix ih\n",
       "          jc:f32[] = reduce_sum[axes=(0,)] jb\n",
       "          jd:f32[1] = broadcast_in_dim[broadcast_dimensions=() shape=(1,)] jc\n",
       "          je:f32[2] = pad[padding_config=((0, 1, 0),)] jd 0.0\n",
       "          jf:f32[2] = add_any ja je\n",
       "          jg:f32[] = convert_element_type[new_dtype=float32 weak_type=False] ij\n",
       "          jh:f32[2] = mul jg jf\n",
       "          ji:f32[2] = sub ig jh\n",
       "        in (ji,) }\n",
       "      name=update\n",
       "    ] hb b c 0.1\n",
       "    jj:f32[2] = xla_call[\n",
       "      call_jaxpr={ lambda ; jk:f32[2] jl:f32[100] jm:f32[100] jn:f32[]. let\n",
       "          jo:f32[1] = slice[limit_indices=(1,) start_indices=(0,) strides=(1,)] jk\n",
       "          jp:f32[] = squeeze[dimensions=(0,)] jo\n",
       "          jq:f32[1] = slice[limit_indices=(2,) start_indices=(1,) strides=(1,)] jk\n",
       "          jr:f32[] = squeeze[dimensions=(0,)] jq\n",
       "          js:f32[100] = mul jp jl\n",
       "          jt:f32[100] = add js jr\n",
       "          ju:f32[100] = sub jt jm\n",
       "          jv:f32[100] = integer_pow[y=2] ju\n",
       "          jw:f32[100] = integer_pow[y=1] ju\n",
       "          jx:f32[100] = mul 2.0 jw\n",
       "          jy:f32[] = reduce_sum[axes=(0,)] jv\n",
       "          _:f32[] = div jy 100.0\n",
       "          jz:f32[] = div 1.0 100.0\n",
       "          ka:f32[100] = broadcast_in_dim[broadcast_dimensions=() shape=(100,)] jz\n",
       "          kb:f32[100] = mul ka jx\n",
       "          kc:f32[] = reduce_sum[axes=(0,)] kb\n",
       "          kd:f32[1] = broadcast_in_dim[broadcast_dimensions=() shape=(1,)] kc\n",
       "          ke:f32[2] = pad[padding_config=((1, 0, 0),)] kd 0.0\n",
       "          kf:f32[100] = mul kb jl\n",
       "          kg:f32[] = reduce_sum[axes=(0,)] kf\n",
       "          kh:f32[1] = broadcast_in_dim[broadcast_dimensions=() shape=(1,)] kg\n",
       "          ki:f32[2] = pad[padding_config=((0, 1, 0),)] kh 0.0\n",
       "          kj:f32[2] = add_any ke ki\n",
       "          kk:f32[] = convert_element_type[new_dtype=float32 weak_type=False] jn\n",
       "          kl:f32[2] = mul kk kj\n",
       "          km:f32[2] = sub jk kl\n",
       "        in (km,) }\n",
       "      name=update\n",
       "    ] if b c 0.1\n",
       "    kn:f32[2] = xla_call[\n",
       "      call_jaxpr={ lambda ; ko:f32[2] kp:f32[100] kq:f32[100] kr:f32[]. let\n",
       "          ks:f32[1] = slice[limit_indices=(1,) start_indices=(0,) strides=(1,)] ko\n",
       "          kt:f32[] = squeeze[dimensions=(0,)] ks\n",
       "          ku:f32[1] = slice[limit_indices=(2,) start_indices=(1,) strides=(1,)] ko\n",
       "          kv:f32[] = squeeze[dimensions=(0,)] ku\n",
       "          kw:f32[100] = mul kt kp\n",
       "          kx:f32[100] = add kw kv\n",
       "          ky:f32[100] = sub kx kq\n",
       "          kz:f32[100] = integer_pow[y=2] ky\n",
       "          la:f32[100] = integer_pow[y=1] ky\n",
       "          lb:f32[100] = mul 2.0 la\n",
       "          lc:f32[] = reduce_sum[axes=(0,)] kz\n",
       "          _:f32[] = div lc 100.0\n",
       "          ld:f32[] = div 1.0 100.0\n",
       "          le:f32[100] = broadcast_in_dim[broadcast_dimensions=() shape=(100,)] ld\n",
       "          lf:f32[100] = mul le lb\n",
       "          lg:f32[] = reduce_sum[axes=(0,)] lf\n",
       "          lh:f32[1] = broadcast_in_dim[broadcast_dimensions=() shape=(1,)] lg\n",
       "          li:f32[2] = pad[padding_config=((1, 0, 0),)] lh 0.0\n",
       "          lj:f32[100] = mul lf kp\n",
       "          lk:f32[] = reduce_sum[axes=(0,)] lj\n",
       "          ll:f32[1] = broadcast_in_dim[broadcast_dimensions=() shape=(1,)] lk\n",
       "          lm:f32[2] = pad[padding_config=((0, 1, 0),)] ll 0.0\n",
       "          ln:f32[2] = add_any li lm\n",
       "          lo:f32[] = convert_element_type[new_dtype=float32 weak_type=False] kr\n",
       "          lp:f32[2] = mul lo ln\n",
       "          lq:f32[2] = sub ko lp\n",
       "        in (lq,) }\n",
       "      name=update\n",
       "    ] jj b c 0.1\n",
       "  in (kn,) }"
      ]
     },
     "execution_count": 12,
     "metadata": {},
     "output_type": "execute_result"
    }
   ],
   "source": [
    "jax.make_jaxpr(train)(theta, xs, ys)"
   ]
  },
  {
   "cell_type": "code",
   "execution_count": null,
   "id": "304854da",
   "metadata": {},
   "outputs": [],
   "source": [
    "%%time\n",
    "train(theta, xs, ys)"
   ]
  },
  {
   "cell_type": "code",
   "execution_count": 23,
   "id": "77662385",
   "metadata": {},
   "outputs": [
    {
     "data": {
      "text/plain": [
       "DeviceArray([1.2889748, 0.6643548], dtype=float32)"
      ]
     },
     "execution_count": 23,
     "metadata": {},
     "output_type": "execute_result"
    }
   ],
   "source": [
    "update(theta, xs, ys)"
   ]
  },
  {
   "cell_type": "code",
   "execution_count": 29,
   "id": "f0653f91",
   "metadata": {},
   "outputs": [],
   "source": [
    "for _ in range(1000):\n",
    "    theta = update(theta, xs, ys)"
   ]
  },
  {
   "cell_type": "code",
   "execution_count": 30,
   "id": "6087986a",
   "metadata": {},
   "outputs": [
    {
     "name": "stdout",
     "output_type": "stream",
     "text": [
      "w: 2.99, b: -1.01\n"
     ]
    },
    {
     "data": {
      "image/png": "[encoded data removed]",
      "text/plain": [
       "<Figure size 640x480 with 1 Axes>"
      ]
     },
     "metadata": {},
     "output_type": "display_data"
    }
   ],
   "source": [
    "plt.scatter(xs, ys)\n",
    "plt.plot(xs, model(theta, xs))\n",
    "\n",
    "w, b = theta\n",
    "print(f\"w: {w:<.2f}, b: {b:<.2f}\")"
   ]
  }
 ],
 "metadata": {
  "kernelspec": {
   "display_name": "Python 3 (ipykernel)",
   "language": "python",
   "name": "python3"
  },
  "language_info": {
   "codemirror_mode": {
    "name": "ipython",
    "version": 3
   },
   "file_extension": ".py",
   "mimetype": "text/x-python",
   "name": "python",
   "nbconvert_exporter": "python",
   "pygments_lexer": "ipython3",
   "version": "3.10.7"
  }
 },
 "nbformat": 4,
 "nbformat_minor": 5
}
